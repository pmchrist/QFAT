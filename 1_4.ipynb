{
 "cells": [
  {
   "cell_type": "code",
   "execution_count": 9,
   "id": "b62fb0ce",
   "metadata": {},
   "outputs": [],
   "source": [
    "import pandas as pd\n",
    "import numpy as np\n",
    "import statsmodels.api as sm\n",
    "from datetime import datetime\n",
    "from matplotlib import pyplot as plt"
   ]
  },
  {
   "cell_type": "code",
   "execution_count": 10,
   "id": "58815970",
   "metadata": {},
   "outputs": [],
   "source": [
    "# Reading stock price data \n",
    "pp = pd.read_csv(\"Pairs_Price.csv\")\n",
    "pr = pd.read_csv(\"Pairs_RI.csv\")        # This one is used"
   ]
  },
  {
   "cell_type": "code",
   "execution_count": 11,
   "id": "6fc8b5e1",
   "metadata": {},
   "outputs": [
    {
     "name": "stdout",
     "output_type": "stream",
     "text": [
      "| date   |   APMOLLER_B |   APMOLLER_A |   INDUSTRIVARDEN_A |   INDUSTRIVARDEN_C |   INVESTOR_B |   INVESTOR_A |   SVENSKAHANDBKN_A |   SVENSKAHANDBKN_B |   VOLVO_B |   VOLVO_A |   VW_PREF |       VW |   HYUNDAI |   HYUNDAI_PREF |   STORAENSO_R |   STORAENSO_A |\n",
      "|:-------|-------------:|-------------:|-------------------:|-------------------:|-------------:|-------------:|-------------------:|-------------------:|----------:|----------:|----------:|---------:|----------:|---------------:|--------------:|--------------:|\n",
      "| 2004   |      1144.92 |      1385.29 |             513.52 |              93.75 |       229.79 |       655.89 |             796.98 |             191.24 |    733.2  |    698.23 |    246.59 |  1491.93 |      2.45 |           0.17 |        679.98 |        518.22 |\n",
      "| 2005   |      1441.34 |      1701.95 |             569.16 |             106.07 |       322.83 |       918.31 |             786.03 |             189.27 |    906.25 |    874.63 |    295.29 |  1791.23 |      4.45 |           0.41 |        623.82 |        464.92 |\n",
      "| 2006   |      1329.3  |      1555.53 |             852.86 |             162.31 |       464.9  |      1311.52 |             992.08 |             242.83 |   1389.43 |   1421.2  |    592.75 |  3926.61 |      3.4  |           0.28 |        757.04 |        577.05 |\n",
      "| 2007   |      1520.12 |      1842.04 |             776.1  |             146    |       442.69 |      1228.01 |            1090.97 |             260.06 |   1836.04 |   1810.64 |   1175.99 |  8009.18 |      3.64 |           0.25 |        741.03 |        548.51 |\n",
      "| 2008   |       757.66 |       932.96 |             336.29 |              59.82 |       297.83 |       818.8  |             586.49 |             138.21 |    629.18 |    635.79 |    445.48 | 12294.2  |      1.52 |           0.07 |        402.63 |        305.74 |\n",
      "| 2009   |      1039.2  |      1221.45 |             609.91 |             116.31 |       389.38 |      1105.91 |            1104.69 |             263.8  |   1039.76 |   1023.71 |    800.87 |  3917.04 |      5.1  |           0.27 |        384.47 |        340.62 |\n",
      "| 2010   |      1348.33 |      1598.91 |             908.61 |             183.13 |       460.63 |      1275.55 |            1283.03 |             304.5  |   2129.51 |   2049.73 |   1441.22 |  5192.57 |      7.56 |           0.4  |        586.83 |        443.59 |\n",
      "| 2011   |      1002.02 |      1154.94 |             667.88 |             129.32 |       416.86 |      1147.42 |            1106.32 |             260.72 |   1357    |   1357.56 |   1341.72 |  5008.73 |      9.22 |           0.43 |        352.14 |        281.19 |\n",
      "| 2012   |      1166.45 |      1338.56 |             936.3  |             187.28 |       607.86 |      1702.56 |            1567.77 |             360.82 |   1742.26 |   1739.73 |   2088.43 |  8242.78 |     10.27 |           0.53 |        428.95 |        338.14 |\n",
      "| 2013   |      1732.72 |      2011.87 |            1168.67 |             224.55 |       832.08 |      2324.75 |            2243.92 |             517.18 |   1734.95 |   1721.87 |   2651.64 | 10667.5  |     11.37 |           0.98 |        659.39 |        474.69 |\n",
      "| 2014   |      2083.89 |      2457.51 |            1128.92 |             218.77 |       895.95 |      2527.36 |            2230.63 |             516.3  |   1569.17 |   1580.54 |   2240.91 |  9316.01 |     10.77 |           1.14 |        618.58 |        444.39 |\n"
     ]
    }
   ],
   "source": [
    "# Grouping data by year\n",
    "pr['date'] = pd.to_datetime(pr['date'], infer_datetime_format=True, dayfirst = True)\n",
    "eoy = pr.groupby(pd.DatetimeIndex(pr.date).to_period('Y')).nth(-1)\n",
    "eoy = eoy.drop(eoy.columns[0], axis=1)      # Not sure why, but without there is a duplicate of dates\n",
    "print(eoy.to_markdown())"
   ]
  },
  {
   "cell_type": "code",
   "execution_count": 12,
   "id": "954effbc",
   "metadata": {},
   "outputs": [
    {
     "name": "stdout",
     "output_type": "stream",
     "text": [
      "|      |   APMOLLER_B |   APMOLLER_A |   INDUSTRIVARDEN_A |   INDUSTRIVARDEN_C |   INVESTOR_B |   INVESTOR_A |   SVENSKAHANDBKN_A |   SVENSKAHANDBKN_B |   VOLVO_B |   VOLVO_A |   VW_PREF |       VW |   HYUNDAI |   HYUNDAI_PREF |   STORAENSO_R |   STORAENSO_A |\n",
      "|-----:|-------------:|-------------:|-------------------:|-------------------:|-------------:|-------------:|-------------------:|-------------------:|----------:|----------:|----------:|---------:|----------:|---------------:|--------------:|--------------:|\n",
      "| 2005 |     1.2589   |     0.813943 |           0.902242 |           1.13141  |     1.40489  |     0.714236 |           1.01393  |           0.989699 |  0.809048 |  1.25264  |  1.19749  | 0.832908 |  0.550562 |       2.41176  |      1.09003  |      0.897148 |\n",
      "| 2006 |     0.922267 |     1.09413  |           0.667355 |           1.53022  |     1.44008  |     0.700188 |           0.792305 |           1.28298  |  0.652246 |  1.62492  |  2.00735  | 0.456177 |  1.30882  |       0.682927 |      0.824025 |      1.24118  |\n",
      "| 2007 |     1.14355  |     0.84446  |           1.0989   |           0.899513 |     0.952226 |     1.068    |           0.909356 |           1.07095  |  1.32143  |  0.784916 |  1.98396  | 0.490264 |  0.934066 |       0.892857 |      1.02161  |      0.950542 |\n",
      "| 2008 |     0.498421 |     1.9744   |           2.30783  |           0.409726 |     0.672773 |     1.49977  |           1.86017  |           0.531454 |  2.91815  |  0.351141 |  0.378813 | 0.651458 |  2.39474  |       0.28     |      1.84047  |      0.557401 |\n",
      "| 2009 |     1.37159  |     0.763814 |           0.551376 |           1.94433  |     1.30739  |     0.740386 |           0.530909 |           1.90869  |  1.65256  |  0.621065 |  1.79777  | 3.13866  |  0.298039 |       3.85714  |      1.04723  |      1.11408  |\n",
      "| 2010 |     1.29747  |     0.763927 |           0.671256 |           1.5745   |     1.18298  |     0.867006 |           0.861001 |           1.15428  |  0.488263 |  2.00226  |  1.79957  | 0.754355 |  0.674603 |       1.48148  |      0.655164 |      1.3023   |\n",
      "| 2011 |     0.743156 |     1.38441  |           1.36044  |           0.706165 |     0.904978 |     1.11167  |           1.15973  |           0.856223 |  1.56928  |  0.662312 |  0.930961 | 1.0367   |  0.819957 |       1.075    |      1.66647  |      0.633896 |\n",
      "| 2012 |     1.1641   |     0.862823 |           0.713318 |           1.44819  |     1.45819  |     0.673938 |           0.705665 |           1.38394  |  1.28391  |  0.780328 |  1.55653  | 0.607651 |  0.89776  |       1.23256  |      0.820935 |      1.20253  |\n",
      "| 2013 |     1.48546  |     0.665331 |           0.801167 |           1.19901  |     1.36887  |     0.732363 |           0.698675 |           1.43335  |  1.00421  |  0.989734 |  1.26968  | 0.772697 |  0.903254 |       1.84906  |      0.650525 |      1.40383  |\n",
      "| 2014 |     1.20267  |     0.818662 |           1.03521  |           0.97426  |     1.07676  |     0.919833 |           1.00596  |           0.998298 |  1.10565  |  0.917921 |  0.845103 | 1.14508  |  1.05571  |       1.16327  |      1.06597  |      0.936169 |\n"
     ]
    }
   ],
   "source": [
    "# Creating securities lists\n",
    "securities_A = []\n",
    "securities_B = []\n",
    "for col in eoy.columns[0::2]:\n",
    "    securities_A.append(col)\n",
    "for col in eoy.columns[1::2]:\n",
    "    securities_B.append(col)\n",
    "# Dataframe with all trades\n",
    "yearly_returns = pd.DataFrame(index=np.arange(2005, 2015))\n",
    "\n",
    "for k in range(len(securities_A)):\n",
    "    # Setting securities to analyze\n",
    "    name_security_A = securities_A[k]\n",
    "    name_security_B = securities_B[k]\n",
    "\n",
    "    # Creating Result Arrays, Yearly returns\n",
    "    trades_temp_a = []\n",
    "    trades_temp_b = []\n",
    "\n",
    "    # Calculating Trades\n",
    "    for i in range(1, len(eoy)):\n",
    "        # Going Long\n",
    "        if eoy[name_security_A].values[i-1] < eoy[name_security_B].values[i-1]:\n",
    "            # Long on A\n",
    "            temp = (eoy[name_security_A].values[i]) / (eoy[name_security_A].values[i - 1])\n",
    "            trades_temp_a.append(temp)\n",
    "            # Short on B\n",
    "            temp = (eoy[name_security_B].values[i - 1]) / (eoy[name_security_B].values[i])\n",
    "            trades_temp_b.append(temp)\n",
    "        # Going Short\n",
    "        else:\n",
    "            # Long on B\n",
    "            temp = (eoy[name_security_B].values[i]) / (eoy[name_security_B].values[i - 1])\n",
    "            trades_temp_b.append(temp)\n",
    "            # Short on A\n",
    "            temp = (eoy[name_security_A].values[i - 1]) / (eoy[name_security_A].values[i])\n",
    "            trades_temp_a.append(temp)\n",
    "\n",
    "    # Saving results in the Dataframe\n",
    "    yearly_returns[name_security_A] = trades_temp_a\n",
    "    yearly_returns[name_security_B] = trades_temp_b\n",
    "\n",
    "print(yearly_returns.to_markdown())"
   ]
  },
  {
   "cell_type": "code",
   "execution_count": 13,
   "id": "b8a0b556",
   "metadata": {},
   "outputs": [
    {
     "name": "stdout",
     "output_type": "stream",
     "text": [
      "Average Arithmetic Return on APMOLLER Pair:  1.0536744476505409\n",
      "Average Arithmetic Return on INDUSTRIVARDEN Pair:  1.0963210603466678\n",
      "Average Arithmetic Return on INVESTOR Pair:  1.0398261821009416\n",
      "Average Arithmetic Return on SVENSKAHANDBKN Pair:  1.0573781536020093\n",
      "Average Arithmetic Return on VOLVO Pair:  1.139598677165328\n",
      "Average Arithmetic Return on VW Pair:  1.1826585694267542\n",
      "Average Arithmetic Return on HYUNDAI Pair:  1.238178256359412\n",
      "Average Arithmetic Return on STORAENSO Pair:  1.046075560361245\n"
     ]
    }
   ],
   "source": [
    "for k in range(len(securities_A)):\n",
    "    # Setting securities to analyze\n",
    "    name_security_A = securities_A[k]\n",
    "    name_security_B = securities_B[k]\n",
    "    # Average Yearly Arithmetic Return (We invested 1$ in each stock in pair)\n",
    "    sum_A = yearly_returns[name_security_A].mean()\n",
    "    sum_B = yearly_returns[name_security_B].mean()\n",
    "\n",
    "    print(\"Average Arithmetic Return on\", name_security_A.split(\"_\")[0], \"Pair: \", (sum_A+sum_B)/2)       # Not sure, how to find excessive return"
   ]
  }
 ],
 "metadata": {
  "kernelspec": {
   "display_name": "Python 3 (ipykernel)",
   "language": "python",
   "name": "python3"
  },
  "language_info": {
   "codemirror_mode": {
    "name": "ipython",
    "version": 3
   },
   "file_extension": ".py",
   "mimetype": "text/x-python",
   "name": "python",
   "nbconvert_exporter": "python",
   "pygments_lexer": "ipython3",
   "version": "3.9.15"
  }
 },
 "nbformat": 4,
 "nbformat_minor": 5
}
