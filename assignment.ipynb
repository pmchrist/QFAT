{
 "cells": [
  {
   "cell_type": "code",
   "execution_count": null,
   "id": "b62fb0ce",
   "metadata": {},
   "outputs": [],
   "source": [
    "import pandas as pd\n",
    "import numpy as np\n",
    "import statsmodels.api as sm\n",
    "from datetime import datetime\n",
    "from matplotlib import pyplot as plt"
   ]
  },
  {
   "cell_type": "code",
   "execution_count": null,
   "id": "58815970",
   "metadata": {},
   "outputs": [],
   "source": [
    "#importing stock price data \n",
    "pp = pd.read_csv(\"Pairs_Price.csv\")\n",
    "pp"
   ]
  },
  {
   "cell_type": "code",
   "execution_count": null,
   "id": "ca70946a",
   "metadata": {},
   "outputs": [],
   "source": [
    "pr = pd.read_csv(\"Pairs_RI.csv\")"
   ]
  },
  {
   "cell_type": "code",
   "execution_count": null,
   "id": "6fc8b5e1",
   "metadata": {},
   "outputs": [],
   "source": [
    "pr['date'] = pd.to_datetime(pr['date'], infer_datetime_format=True)\n",
    "\n",
    "eoy = pd.DataFrame()\n",
    "\n",
    "eoy = pr.groupby(pd.DatetimeIndex(pr.date).to_period('Y')).nth(-1)\n",
    "\n",
    "eoy"
   ]
  },
  {
   "cell_type": "code",
   "execution_count": null,
   "id": "954effbc",
   "metadata": {},
   "outputs": [],
   "source": [
    "longList = []\n",
    "shortList = []\n",
    "\n",
    "year = 2005\n",
    "\n",
    "print(\"Short:\")\n",
    "for i in range(len(eoy) - 1):\n",
    "    if eoy['APMOLLER_B'].values[i] < eoy['APMOLLER_A'].values[i]:\n",
    "        temp = (eoy['APMOLLER_A'].values[i]) / (eoy['APMOLLER_A'].values[i + 1])\n",
    "        answer = 1 * temp\n",
    "        shortList.append(answer)\n",
    "        print(year)\n",
    "        print('Proft/Loss: ' , answer)\n",
    "        print('\\n')\n",
    "    else:\n",
    "        temp = (eoy['APMOLLER_B'].values[i]) / (eoy['APMOLLER_B'].values[i + 1])\n",
    "        answer = 1 * temp\n",
    "        shortList.append(answer)\n",
    "        print(year)\n",
    "        print('Proft/Loss: ' , answer)\n",
    "        print('\\n')\n",
    "    year = year + 1\n",
    "    i = i + 1\n",
    "    \n",
    "    \n",
    "year = 2005\n",
    "    \n",
    "print(\"Long:\")\n",
    "for i in range(len(eoy) - 1):\n",
    "    if eoy['APMOLLER_B'].values[i] > eoy['APMOLLER_A'].values[i]:\n",
    "        temp = (eoy['APMOLLER_A'].values[i + 1]) / (eoy['APMOLLER_A'].values[i])\n",
    "        answer = 1 * temp\n",
    "        longList.append(answer)\n",
    "        print(year)\n",
    "        print('Proft/Loss: ' , answer)\n",
    "        print('\\n')\n",
    "    else:\n",
    "        temp = (eoy['APMOLLER_B'].values[i + 1]) / (eoy['APMOLLER_B'].values[i])\n",
    "        answer = 1 * temp\n",
    "        longList.append(answer)\n",
    "        print(year)\n",
    "        print('Proft/Loss: ' , answer)\n",
    "        print('\\n')\n",
    "    year = year + 1\n",
    "    i = i + 1\n",
    "    \n",
    "newList = []\n",
    "\n",
    "for i in range(len(longList)):\n",
    "    ans = longList[i] + shortList[i]\n",
    "    ans = ans - 2\n",
    "    newList.append(ans)\n",
    "    \n",
    "\n",
    "#print(newList)\n",
    "\n",
    "newYear = 2005\n",
    "\n",
    "for i in range(len(newList)):\n",
    "    print(newYear, ': ')\n",
    "    print(newList[i], '\\n')\n",
    "    newYear = newYear + 1"
   ]
  },
  {
   "cell_type": "code",
   "execution_count": null,
   "id": "b8a0b556",
   "metadata": {},
   "outputs": [],
   "source": []
  },
  {
   "cell_type": "code",
   "execution_count": null,
   "id": "8b95caf2",
   "metadata": {},
   "outputs": [],
   "source": []
  }
 ],
 "metadata": {
  "kernelspec": {
   "display_name": "Python 3 (ipykernel)",
   "language": "python",
   "name": "python3"
  },
  "language_info": {
   "codemirror_mode": {
    "name": "ipython",
    "version": 3
   },
   "file_extension": ".py",
   "mimetype": "text/x-python",
   "name": "python",
   "nbconvert_exporter": "python",
   "pygments_lexer": "ipython3",
   "version": "3.9.13"
  }
 },
 "nbformat": 4,
 "nbformat_minor": 5
}
